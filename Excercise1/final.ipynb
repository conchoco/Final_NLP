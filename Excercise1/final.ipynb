{
  "cells": [
    {
      "cell_type": "markdown",
      "metadata": {
        "id": "E22Vmne2c6GM"
      },
      "source": [
        "# Library"
      ]
    },
    {
      "cell_type": "code",
      "execution_count": null,
      "metadata": {
        "colab": {
          "base_uri": "https://localhost:8080/"
        },
        "id": "yR7L8psrjlTA",
        "outputId": "16115d8c-4203-4d5f-bcbc-816ece702623"
      },
      "outputs": [],
      "source": [
        "%pip install pyvi\n",
        "%pip install underthesea"
      ]
    },
    {
      "cell_type": "code",
      "execution_count": null,
      "metadata": {
        "id": "PcRJaFiYc6GQ"
      },
      "outputs": [],
      "source": [
        "import os\n",
        "import re\n",
        "import pyvi\n",
        "import nltk\n",
        "import numpy as np\n",
        "import pandas as pd\n",
        "import tensorflow as tf\n",
        "from pyvi import ViTokenizer\n",
        "from tensorflow import keras\n",
        "from tensorflow.keras import Input, Model\n",
        "from tensorflow.keras.optimizers import RMSprop\n",
        "from tensorflow.python.keras import backend as K\n",
        "from tensorflow.keras.activations import softmax\n",
        "from tensorflow.python.keras.layers import Layer\n",
        "from tensorflow.keras.utils import to_categorical\n",
        "from tensorflow.keras.preprocessing.text import Tokenizer\n",
        "from tensorflow.keras.layers import Embedding, LSTM, Dense\n",
        "from tensorflow.keras.preprocessing.sequence import pad_sequences\n",
        "from tensorflow.keras.layers import Bidirectional, Concatenate, Dropout\n",
        "from underthesea import word_tokenize\n",
        "from nltk.translate.bleu_score import sentence_bleu\n",
        "from nltk.translate.bleu_score import SmoothingFunction"
      ]
    },
    {
      "cell_type": "code",
      "execution_count": null,
      "metadata": {
        "colab": {
          "base_uri": "https://localhost:8080/"
        },
        "id": "cahvM8gdkP2C",
        "outputId": "5b04923e-018d-4298-d227-c2aaf395fab1"
      },
      "outputs": [
        {
          "name": "stderr",
          "output_type": "stream",
          "text": [
            "[nltk_data] Error loading punkt: <urlopen error [SSL:\n",
            "[nltk_data]     CERTIFICATE_VERIFY_FAILED] certificate verify failed:\n",
            "[nltk_data]     unable to get local issuer certificate (_ssl.c:997)>\n"
          ]
        },
        {
          "data": {
            "text/plain": [
              "False"
            ]
          },
          "execution_count": 3,
          "metadata": {},
          "output_type": "execute_result"
        }
      ],
      "source": [
        "import nltk\n",
        "nltk.download('punkt')"
      ]
    },
    {
      "cell_type": "markdown",
      "metadata": {
        "id": "kqxX-nFJc6GR"
      },
      "source": [
        "# Read data"
      ]
    },
    {
      "cell_type": "code",
      "execution_count": null,
      "metadata": {
        "id": "iTfbKaVIc6GS"
      },
      "outputs": [],
      "source": [
        "def read_file(filename):\n",
        "    lines = open(filename, 'r', encoding='utf8').readlines()\n",
        "    return lines\n",
        "def read_data(data,Q,A):\n",
        "    Replace_element=['',' ']\n",
        "    for line in data:\n",
        "        count=0\n",
        "        if line in Replace_element:\n",
        "            continue\n",
        "        for sentence in line.strip().split(' '):\n",
        "            count+=1\n",
        "            if sentence in Replace_element:\n",
        "                if count ==1:\n",
        "                    break\n",
        "                if count==2:\n",
        "                    Q=Q[:-1]\n",
        "            if count==1:\n",
        "                Q.append(sentence)\n",
        "            if count==2:\n",
        "                A.append(sentence.replace(' ',''))\n",
        "                if '?' in sentence:\n",
        "                    A[-1] = A[-1].replace('?','')\n"
      ]
    },
    {
      "cell_type": "code",
      "execution_count": null,
      "metadata": {
        "id": "WBwj-k-EV6n2"
      },
      "outputs": [],
      "source": [
        "%matplotlib inline\n",
        "import matplotlib.pyplot as plt"
      ]
    },
    {
      "cell_type": "code",
      "execution_count": null,
      "metadata": {
        "colab": {
          "base_uri": "https://localhost:8080/",
          "height": 206
        },
        "id": "xpjOuxIkVwH0",
        "outputId": "7a874773-c159-4450-87ce-b10562f19635"
      },
      "outputs": [
        {
          "data": {
            "text/html": [
              "<div>\n",
              "<style scoped>\n",
              "    .dataframe tbody tr th:only-of-type {\n",
              "        vertical-align: middle;\n",
              "    }\n",
              "\n",
              "    .dataframe tbody tr th {\n",
              "        vertical-align: top;\n",
              "    }\n",
              "\n",
              "    .dataframe thead th {\n",
              "        text-align: right;\n",
              "    }\n",
              "</style>\n",
              "<table border=\"1\" class=\"dataframe\">\n",
              "  <thead>\n",
              "    <tr style=\"text-align: right;\">\n",
              "      <th></th>\n",
              "      <th>Unnamed: 0</th>\n",
              "      <th>user_a</th>\n",
              "      <th>user_b</th>\n",
              "    </tr>\n",
              "  </thead>\n",
              "  <tbody>\n",
              "    <tr>\n",
              "      <th>0</th>\n",
              "      <td>0</td>\n",
              "      <td>bạn tên gì?</td>\n",
              "      <td>Mình tên Trường &lt;eos&gt; còn bạn tên gì?</td>\n",
              "    </tr>\n",
              "    <tr>\n",
              "      <th>1</th>\n",
              "      <td>1</td>\n",
              "      <td>Tui tên Nam &lt;eos&gt; Bạn học ở đâu?</td>\n",
              "      <td>tui học ở TDTU nè &lt;eos&gt; còn bạn học ở trường n...</td>\n",
              "    </tr>\n",
              "    <tr>\n",
              "      <th>2</th>\n",
              "      <td>2</td>\n",
              "      <td>tui học ở TDTU luôn &lt;eos&gt; Bạn học ngành gì</td>\n",
              "      <td>mình học Công Nghệ Thông Tin</td>\n",
              "    </tr>\n",
              "    <tr>\n",
              "      <th>3</th>\n",
              "      <td>3</td>\n",
              "      <td>Chuyên ngành gì vậy bạn ?</td>\n",
              "      <td>mình học bên Kỹ Thuật Phần Mềm á &lt;eos&gt; còn bạn...</td>\n",
              "    </tr>\n",
              "    <tr>\n",
              "      <th>4</th>\n",
              "      <td>4</td>\n",
              "      <td>mình học Quản Trị Kinh Doanh &lt;eos&gt; Bạn là ngườ...</td>\n",
              "      <td>Mình là người Đồng tháp &lt;eos&gt; bạn biết Đồng Th...</td>\n",
              "    </tr>\n",
              "  </tbody>\n",
              "</table>\n",
              "</div>"
            ],
            "text/plain": [
              "   Unnamed: 0                                             user_a  \\\n",
              "0           0                                        bạn tên gì?   \n",
              "1           1                   Tui tên Nam <eos> Bạn học ở đâu?   \n",
              "2           2         tui học ở TDTU luôn <eos> Bạn học ngành gì   \n",
              "3           3                          Chuyên ngành gì vậy bạn ?   \n",
              "4           4  mình học Quản Trị Kinh Doanh <eos> Bạn là ngườ...   \n",
              "\n",
              "                                              user_b  \n",
              "0              Mình tên Trường <eos> còn bạn tên gì?  \n",
              "1  tui học ở TDTU nè <eos> còn bạn học ở trường n...  \n",
              "2                       mình học Công Nghệ Thông Tin  \n",
              "3  mình học bên Kỹ Thuật Phần Mềm á <eos> còn bạn...  \n",
              "4  Mình là người Đồng tháp <eos> bạn biết Đồng Th...  "
            ]
          },
          "execution_count": 6,
          "metadata": {},
          "output_type": "execute_result"
        }
      ],
      "source": [
        "dt = pd.read_csv('ChatBotData.csv', encoding='utf-8')\n",
        "dt.head()"
      ]
    },
    {
      "cell_type": "code",
      "execution_count": null,
      "metadata": {
        "colab": {
          "base_uri": "https://localhost:8080/"
        },
        "id": "79pS4l3KWYqA",
        "outputId": "d60589c3-0d20-4001-946c-c10c2d6fb3d7"
      },
      "outputs": [
        {
          "name": "stdout",
          "output_type": "stream",
          "text": [
            "0                                          bạn tên gì?\n",
            "1                     Tui tên Nam <eos> Bạn học ở đâu?\n",
            "2           tui học ở TDTU luôn <eos> Bạn học ngành gì\n",
            "3                            Chuyên ngành gì vậy bạn ?\n",
            "4    mình học Quản Trị Kinh Doanh <eos> Bạn là ngườ...\n",
            "Name: user_a, dtype: object\n",
            "0                Mình tên Trường <eos> còn bạn tên gì?\n",
            "1    tui học ở TDTU nè <eos> còn bạn học ở trường n...\n",
            "2                         mình học Công Nghệ Thông Tin\n",
            "3    mình học bên Kỹ Thuật Phần Mềm á <eos> còn bạn...\n",
            "4    Mình là người Đồng tháp <eos> bạn biết Đồng Th...\n",
            "Name: user_b, dtype: object\n"
          ]
        }
      ],
      "source": [
        "Q = dt['user_a']\n",
        "A = dt['user_b']\n",
        "print(Q.head())\n",
        "print(A.head())\n",
        "data = pd.DataFrame()\n",
        "data['question'] = Q\n",
        "data['answer'] = A"
      ]
    },
    {
      "cell_type": "markdown",
      "metadata": {
        "id": "j1rD7Jlyc6GV"
      },
      "source": [
        " Processing word segmentation\n",
        "\n",
        "---\n",
        "\n"
      ]
    },
    {
      "cell_type": "code",
      "execution_count": null,
      "metadata": {
        "colab": {
          "base_uri": "https://localhost:8080/"
        },
        "id": "G1dq5iSDOax3",
        "outputId": "3b5c7b08-0abb-4899-feb4-01a85b5ea666"
      },
      "outputs": [],
      "source": [
        "temp = []\n",
        "for question in data['question']:\n",
        "  temp.append(word_tokenize(question))\n",
        "#print(temp)"
      ]
    },
    {
      "cell_type": "code",
      "execution_count": null,
      "metadata": {
        "id": "AyzA_A9jJSgj"
      },
      "outputs": [],
      "source": [
        "smoothie = SmoothingFunction().method4\n",
        "def predict(candidate):\n",
        "  candidate = word_tokenize(candidate)\n",
        "  list_core = []\n",
        "  max = {'bleu_core': 0}\n",
        "  for i in range(len(temp)):\n",
        "    tmp = {}\n",
        "    tmp['question'] = temp[i]\n",
        "    tmp['bleu_core'] = sentence_bleu([temp[i]], candidate,smoothing_function=smoothie)\n",
        "    tmp['answer'] = A[i]\n",
        "    if(tmp['bleu_core'] > max['bleu_core']):\n",
        "      max = tmp\n",
        "  if(max['bleu_core'] == 0):\n",
        "    return 'Bạn vui lòng hỏi câu khác!!'\n",
        "  return max['answer']"
      ]
    },
    {
      "cell_type": "code",
      "execution_count": null,
      "metadata": {
        "colab": {
          "base_uri": "https://localhost:8080/"
        },
        "id": "mnC6bn9Ssz30",
        "outputId": "63693bcb-363c-48b2-b51e-8563ee0117eb"
      },
      "outputs": [
        {
          "name": "stdout",
          "output_type": "stream",
          "text": [
            "Bot chat: Ai vậy ạ?\n",
            "Bot chat: A, có phải Hiếu PC đấy không. Tao nè, Vinh Khuất quê Sơn La nè\n",
            "Bot chat: Mình tên Trường <eos> còn bạn tên gì?\n",
            "Bot chat: Thế minh học trường nào thế?\n",
            "Bot chat: à vậy mình cũng học gần trường của bạn đấy\n",
            "Bot chat: nan\n",
            "Bot chat: Chưa.\n",
            "Bot chat: Bạn vui lòng hỏi câu khác!!\n",
            "Bot chat: Tạm biệt. Chúc bạn một ngày vui vẻ!\n"
          ]
        }
      ],
      "source": [
        "s=''\n",
        "while s!='Tạm biệt':\n",
        "  s=input('You chat : ')\n",
        "  if s.lower() == 'tạm biệt':\n",
        "    print('Bot chat: Tạm biệt. Chúc bạn một ngày vui vẻ!')\n",
        "    break\n",
        "  print('Bot chat:', predict(s))"
      ]
    },
    {
      "cell_type": "code",
      "execution_count": null,
      "metadata": {
        "colab": {
          "base_uri": "https://localhost:8080/"
        },
        "id": "wSp23OL7eQdf",
        "outputId": "84880f0f-e0c8-4370-c449-408c2160381f"
      },
      "outputs": [
        {
          "data": {
            "text/plain": [
              "['?', ',', 'không', '.', 'bạn']"
            ]
          },
          "execution_count": 17,
          "metadata": {},
          "output_type": "execute_result"
        }
      ],
      "source": [
        "from gensim.models import Word2Vec\n",
        "\n",
        "modelw2v = Word2Vec(sentences=temp, vector_size=100, window=5, sg=0, min_count=1)\n",
        "wordlist = list(modelw2v.wv.key_to_index)\n",
        "wordlist[:5]"
      ]
    },
    {
      "cell_type": "code",
      "execution_count": null,
      "metadata": {
        "id": "tTpIu3NZenDu"
      },
      "outputs": [],
      "source": [
        "def predict_w2v(input):\n",
        "  input = word_tokenize(input)\n",
        "  list_core = []\n",
        "  min = {'dst': 100}\n",
        "  for i in range(1, len(temp)):\n",
        "    #tính khoảng cách giữa 2 câu\n",
        "    dst = modelw2v.wv.wmdistance(temp[i], input)\n",
        "    tmp = {}\n",
        "    tmp['question'] = temp[i]\n",
        "    tmp['dst'] = dst\n",
        "    tmp['answer'] = A[i]\n",
        "    #tìm khoảng cách bé nhất\n",
        "    if(tmp['dst'] < min['dst']):\n",
        "      min = tmp\n",
        "  return min['answer']"
      ]
    },
    {
      "cell_type": "code",
      "execution_count": null,
      "metadata": {
        "colab": {
          "base_uri": "https://localhost:8080/",
          "height": 524
        },
        "id": "EtNk_Q39sgCR",
        "outputId": "651f07de-0926-40ba-8a1e-cd24e793be68"
      },
      "outputs": [
        {
          "name": "stdout",
          "output_type": "stream",
          "text": [
            "Bot chat: Xin chào\n",
            "Bot chat: Mình tên Khánh <eos> Còn bạn tên gì?\n",
            "Bot chat: Mình ten Duy <eos> Còn bạn tên gì?\n",
            "Bot chat: Tớ học đại học Tôn Đức Thắng\n",
            "Bot chat: Bạn học ngành gì ?\n",
            "Bot chat: nan\n",
            "Bot chat: tớ học Không giỏi\n",
            "Bot chat: Thế bạn khoa nào?\n",
            "Bot chat: nan\n",
            "Bot chat: À môn đó tui chưa học qua\n",
            "Bot chat: nan\n",
            "Bot chat: Mình thích hãng phim Marvel nhất\n",
            "Bot chat: Thế bạn khoa nào?\n",
            "Bot chat: crush bao lâu rồi?\n",
            "Bot chat: nan\n",
            "Bot chat: Tạm biệt. Chúc bạn một ngày vui vẻ!\n"
          ]
        }
      ],
      "source": [
        "s=''\n",
        "while s!='Tạm biệt':\n",
        "    s=input('You chat : ')\n",
        "    if s.lower() == 'tạm biệt':\n",
        "      print('Bot chat: Tạm biệt. Chúc bạn một ngày vui vẻ!')\n",
        "      break\n",
        "    print('Bot chat:', predict_w2v(s))"
      ]
    },
    {
      "cell_type": "code",
      "execution_count": null,
      "metadata": {},
      "outputs": [],
      "source": []
    }
  ],
  "metadata": {
    "colab": {
      "collapsed_sections": [],
      "name": "final",
      "provenance": []
    },
    "kernelspec": {
      "display_name": "Python 3",
      "language": "python",
      "name": "python3"
    },
    "language_info": {
      "codemirror_mode": {
        "name": "ipython",
        "version": 3
      },
      "file_extension": ".py",
      "mimetype": "text/x-python",
      "name": "python",
      "nbconvert_exporter": "python",
      "pygments_lexer": "ipython3",
      "version": "3.6.13"
    }
  },
  "nbformat": 4,
  "nbformat_minor": 0
}
